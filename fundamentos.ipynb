{
 "cells": [
  {
   "cell_type": "markdown",
   "metadata": {},
   "source": [
    "#### Fundamentos de Python\n",
    "* variables\n",
    "* operadores matematicos\n",
    "* operadores logicos\n",
    "* operadores de comparacion\n",
    "* estructuras de control\n",
    "    - Condicionales\n",
    "    - Ciclo finito: for\n",
    "    - Ciclo infinito: while\n",
    "    - funciones\n",
    "* estructuras de datos\n",
    "    - Cadenas de caracteres: string\n",
    "    - numero enteros\n",
    "    - numero decimales\n",
    "    - listas\n",
    "    - diccionarios\n",
    "    - tuplas"
   ]
  },
  {
   "cell_type": "code",
   "execution_count": 1,
   "metadata": {},
   "outputs": [
    {
     "name": "stdout",
     "output_type": "stream",
     "text": [
      "epale mundo\n"
     ]
    }
   ],
   "source": [
    "print(\"epale mundo\")"
   ]
  },
  {
   "cell_type": "code",
   "execution_count": 18,
   "metadata": {},
   "outputs": [],
   "source": [
    "# Variables\n",
    "name = \"Juan\"\n",
    "last_name = \"Gomez\""
   ]
  },
  {
   "cell_type": "code",
   "execution_count": 19,
   "metadata": {},
   "outputs": [],
   "source": [
    "# Mala practica\n",
    "Name = \"Juan\"\n",
    "Last_Name = \"Gomez\""
   ]
  },
  {
   "cell_type": "code",
   "execution_count": 6,
   "metadata": {},
   "outputs": [],
   "source": [
    "# Operadores matematicos\n",
    "number_1 = 10\n",
    "number_2 = 5"
   ]
  },
  {
   "cell_type": "code",
   "execution_count": 7,
   "metadata": {},
   "outputs": [],
   "source": [
    "# Suma\n",
    "result = number_1 + number_2"
   ]
  },
  {
   "cell_type": "code",
   "execution_count": 9,
   "metadata": {},
   "outputs": [
    {
     "name": "stdout",
     "output_type": "stream",
     "text": [
      "15\n"
     ]
    }
   ],
   "source": [
    "print(result)"
   ]
  },
  {
   "cell_type": "code",
   "execution_count": 11,
   "metadata": {},
   "outputs": [],
   "source": [
    "# resta\n",
    "result_sub = number_1 - number_2"
   ]
  },
  {
   "cell_type": "code",
   "execution_count": 13,
   "metadata": {},
   "outputs": [],
   "source": [
    "# multiplicacion\n",
    "result_mult = number_1 * number_2"
   ]
  },
  {
   "cell_type": "code",
   "execution_count": 14,
   "metadata": {},
   "outputs": [],
   "source": [
    "# division\n",
    "result_div = number_1 / number_2"
   ]
  },
  {
   "cell_type": "code",
   "execution_count": 15,
   "metadata": {},
   "outputs": [
    {
     "name": "stdout",
     "output_type": "stream",
     "text": [
      "5\n"
     ]
    }
   ],
   "source": [
    "print(result_sub)"
   ]
  },
  {
   "cell_type": "code",
   "execution_count": 16,
   "metadata": {},
   "outputs": [
    {
     "data": {
      "text/plain": [
       "int"
      ]
     },
     "execution_count": 16,
     "metadata": {},
     "output_type": "execute_result"
    }
   ],
   "source": [
    "type(result_sub)"
   ]
  },
  {
   "cell_type": "code",
   "execution_count": 20,
   "metadata": {},
   "outputs": [
    {
     "name": "stdout",
     "output_type": "stream",
     "text": [
      "Gomez\n"
     ]
    }
   ],
   "source": [
    "print(last_name)"
   ]
  },
  {
   "cell_type": "code",
   "execution_count": 22,
   "metadata": {},
   "outputs": [],
   "source": [
    "# Operadores de comparacion\n",
    "# == igual\n",
    "# != diferente\n",
    "# < menor que\n",
    "# > mayor que\n",
    "# <= menor o igual que\n",
    "# >= mayor o igual que"
   ]
  },
  {
   "cell_type": "code",
   "execution_count": 23,
   "metadata": {},
   "outputs": [],
   "source": [
    "# Operadores booleanos\n",
    "# True\n",
    "# False"
   ]
  },
  {
   "cell_type": "code",
   "execution_count": 24,
   "metadata": {},
   "outputs": [
    {
     "data": {
      "text/plain": [
       "True"
      ]
     },
     "execution_count": 24,
     "metadata": {},
     "output_type": "execute_result"
    }
   ],
   "source": [
    "# Ejemplos\n",
    "4 == 4"
   ]
  },
  {
   "cell_type": "code",
   "execution_count": 25,
   "metadata": {},
   "outputs": [
    {
     "data": {
      "text/plain": [
       "False"
      ]
     },
     "execution_count": 25,
     "metadata": {},
     "output_type": "execute_result"
    }
   ],
   "source": [
    "number_1 == number_2"
   ]
  },
  {
   "cell_type": "code",
   "execution_count": 26,
   "metadata": {},
   "outputs": [
    {
     "data": {
      "text/plain": [
       "True"
      ]
     },
     "execution_count": 26,
     "metadata": {},
     "output_type": "execute_result"
    }
   ],
   "source": [
    "number_1 > number_2"
   ]
  },
  {
   "cell_type": "code",
   "execution_count": 27,
   "metadata": {},
   "outputs": [
    {
     "data": {
      "text/plain": [
       "False"
      ]
     },
     "execution_count": 27,
     "metadata": {},
     "output_type": "execute_result"
    }
   ],
   "source": [
    "number_1 <= number_2"
   ]
  },
  {
   "cell_type": "code",
   "execution_count": 28,
   "metadata": {},
   "outputs": [
    {
     "name": "stdout",
     "output_type": "stream",
     "text": [
      "number_1 es mayor que number_2\n"
     ]
    }
   ],
   "source": [
    "# Condicionales\n",
    "if number_1 > number_2:\n",
    "    print(\"number_1 es mayor que number_2\")"
   ]
  },
  {
   "cell_type": "code",
   "execution_count": 29,
   "metadata": {},
   "outputs": [
    {
     "ename": "SyntaxError",
     "evalue": "expected ':' (4099665244.py, line 2)",
     "output_type": "error",
     "traceback": [
      "\u001b[1;36m  Cell \u001b[1;32mIn[29], line 2\u001b[1;36m\u001b[0m\n\u001b[1;33m    if number_1 > number_2\u001b[0m\n\u001b[1;37m                          ^\u001b[0m\n\u001b[1;31mSyntaxError\u001b[0m\u001b[1;31m:\u001b[0m expected ':'\n"
     ]
    }
   ],
   "source": [
    "# Condicionales\n",
    "if number_1 > number_2\n",
    "    print(\"number_1 es mayor que number_2\")"
   ]
  },
  {
   "cell_type": "code",
   "execution_count": 30,
   "metadata": {},
   "outputs": [
    {
     "ename": "IndentationError",
     "evalue": "expected an indented block after 'if' statement on line 2 (4188665429.py, line 3)",
     "output_type": "error",
     "traceback": [
      "\u001b[1;36m  Cell \u001b[1;32mIn[30], line 3\u001b[1;36m\u001b[0m\n\u001b[1;33m    print(\"number_1 es mayor que number_2\")\u001b[0m\n\u001b[1;37m    ^\u001b[0m\n\u001b[1;31mIndentationError\u001b[0m\u001b[1;31m:\u001b[0m expected an indented block after 'if' statement on line 2\n"
     ]
    }
   ],
   "source": [
    "# Condicionales\n",
    "if number_1 > number_2:\n",
    "print(\"number_1 es mayor que number_2\")"
   ]
  },
  {
   "cell_type": "code",
   "execution_count": 31,
   "metadata": {},
   "outputs": [
    {
     "name": "stdout",
     "output_type": "stream",
     "text": [
      "number_1 es mayor que number_2\n"
     ]
    }
   ],
   "source": [
    "# Condicionales\n",
    "if number_1 > number_2:\n",
    "    print(\"number_1 es mayor que number_2\")\n",
    "else: \n",
    "    print(\"number_1 no es mayor que number_2\")"
   ]
  },
  {
   "cell_type": "code",
   "execution_count": 33,
   "metadata": {},
   "outputs": [
    {
     "name": "stdout",
     "output_type": "stream",
     "text": [
      "number_1 es igual que number_2\n"
     ]
    }
   ],
   "source": [
    "# Condicionales\n",
    "number_1 = 20\n",
    "number_2 = 20\n",
    "\n",
    "if number_1 > number_2:\n",
    "    print(\"number_1 es mayor que number_2\")\n",
    "elif number_1 < number_2:\n",
    "    print(\"number_1 es menor que number_2\")\n",
    "else: \n",
    "    print(\"number_1 es igual que number_2\")"
   ]
  },
  {
   "cell_type": "code",
   "execution_count": 35,
   "metadata": {},
   "outputs": [
    {
     "name": "stdout",
     "output_type": "stream",
     "text": [
      "number_1 es mayor que number_2 y mayor que 10\n"
     ]
    }
   ],
   "source": [
    "# Condicionales anidados\n",
    "number_1 = 20\n",
    "number_2 = 10\n",
    "\n",
    "if (number_1 > number_2):\n",
    "    if number_1 > 10:\n",
    "        print(\"number_1 es mayor que number_2 y mayor que 10\")\n",
    "elif number_1 < number_2:\n",
    "    print(\"number_1 es menor que number_2\")\n",
    "else: \n",
    "    print(\"number_1 es igual que number_2\")"
   ]
  },
  {
   "cell_type": "code",
   "execution_count": 37,
   "metadata": {},
   "outputs": [
    {
     "name": "stdout",
     "output_type": "stream",
     "text": [
      "number_1 es mayor que number_2 y mayor que 10\n"
     ]
    }
   ],
   "source": [
    "# Operadores logicos\n",
    "# and\n",
    "# or\n",
    "# not\n",
    "\n",
    "# Condicionales anidados\n",
    "number_1 = 20\n",
    "number_2 = 10\n",
    "\n",
    "if (number_1 > number_2) and (number_1 > 10):\n",
    "    print(\"number_1 es mayor que number_2 y mayor que 10\")\n",
    "elif number_1 < number_2:\n",
    "    print(\"number_1 es menor que number_2\")\n",
    "else: \n",
    "    print(\"number_1 es igual que number_2\")\n"
   ]
  },
  {
   "cell_type": "code",
   "execution_count": 39,
   "metadata": {},
   "outputs": [
    {
     "name": "stdout",
     "output_type": "stream",
     "text": [
      "\"20\" es mayor que \"5\" y mayor que 10\n"
     ]
    }
   ],
   "source": [
    "# Operadores logicos\n",
    "# and\n",
    "# or\n",
    "# not\n",
    "\n",
    "# Condicionales anidados\n",
    "number_1 = 20\n",
    "number_2 = 5\n",
    "\n",
    "if (number_1 > number_2) and (number_1 > 10):\n",
    "    print(f'\"{number_1}\" es mayor que \"{number_2}\" y mayor que 10')\n",
    "elif number_1 < number_2:\n",
    "    print(\"number_1 es menor que number_2\")\n",
    "else: \n",
    "    print(\"number_1 es igual que number_2\")"
   ]
  },
  {
   "cell_type": "code",
   "execution_count": 2,
   "metadata": {},
   "outputs": [
    {
     "name": "stdout",
     "output_type": "stream",
     "text": [
      "¡Bienvenido al juego de Piedra, Papel o Tijera!\n",
      "Jugador 1: piedra\n",
      "Jugador 2: papel\n",
      "Jugador 2 gana\n"
     ]
    }
   ],
   "source": [
    "def jugar():\n",
    "    print(\"¡Bienvenido al juego de Piedra, Papel o Tijera!\")\n",
    "\n",
    "    while True:\n",
    "        # Obtener opciones de los jugadores\n",
    "        while True:\n",
    "            jugador1 = input(\"Jugador 1, elige (piedra, papel o tijera): \").lower()\n",
    "            if jugador1 in [\"piedra\", \"papel\", \"tijera\"]:\n",
    "                break\n",
    "            else:\n",
    "                print(\"Opción inválida. Inténtalo de nuevo.\")\n",
    "\n",
    "        while True:\n",
    "            jugador2 = input(\"Jugador 2, elige (piedra, papel o tijera): \").lower()\n",
    "            if jugador2 in [\"piedra\", \"papel\", \"tijera\"]:\n",
    "                break\n",
    "            else:\n",
    "                print(\"Opción inválida. Inténtalo de nuevo.\")\n",
    "\n",
    "        # Mostrar opciones de los jugadores\n",
    "        print(f\"Jugador 1: {jugador1}\")\n",
    "        print(f\"Jugador 2: {jugador2}\")\n",
    "\n",
    "        # Determinar ganador con condicionales\n",
    "        if jugador1 == jugador2:\n",
    "            print(\"Empate\")\n",
    "        elif jugador1 == \"piedra\":\n",
    "            if jugador2 == \"tijera\":\n",
    "                print(\"Jugador 1 gana\")\n",
    "            else:\n",
    "                print(\"Jugador 2 gana\")\n",
    "        elif jugador1 == \"papel\":\n",
    "            if jugador2 == \"piedra\":\n",
    "                print(\"Jugador 1 gana\")\n",
    "            else:\n",
    "                print(\"Jugador 2 gana\")\n",
    "        elif jugador1 == \"tijera\":\n",
    "            if jugador2 == \"papel\":\n",
    "                print(\"Jugador 1 gana\")\n",
    "            else:\n",
    "                print(\"Jugador 2 gana\")\n",
    "\n",
    "        # Preguntar si jugar de nuevo\n",
    "        jugar_de_nuevo = input(\"¿Jugar de nuevo? (s/n): \").lower()\n",
    "        if jugar_de_nuevo != \"s\":\n",
    "            break\n",
    "\n",
    "if __name__ == \"__main__\":\n",
    "    jugar()"
   ]
  },
  {
   "cell_type": "code",
   "execution_count": null,
   "metadata": {},
   "outputs": [],
   "source": []
  },
  {
   "cell_type": "markdown",
   "metadata": {},
   "source": [
    "### Estructuras de datos básicas"
   ]
  },
  {
   "cell_type": "code",
   "execution_count": 7,
   "metadata": {},
   "outputs": [],
   "source": [
    "# int\n",
    "# float\n",
    "# str\n",
    "# list\n",
    "            #  0       1       2         3\n",
    "            #  -4     -3      -2        -1\n",
    "list_names = [\n",
    "    \"Juan\", \n",
    "    \"Pedro\", \n",
    "    \"Maria\", \n",
    "    \"Ana\",\n",
    "    ]"
   ]
  },
  {
   "cell_type": "code",
   "execution_count": 2,
   "metadata": {},
   "outputs": [
    {
     "data": {
      "text/plain": [
       "'Juan'"
      ]
     },
     "execution_count": 2,
     "metadata": {},
     "output_type": "execute_result"
    }
   ],
   "source": [
    "list_names[0]"
   ]
  },
  {
   "cell_type": "code",
   "execution_count": 3,
   "metadata": {},
   "outputs": [
    {
     "data": {
      "text/plain": [
       "'Maria'"
      ]
     },
     "execution_count": 3,
     "metadata": {},
     "output_type": "execute_result"
    }
   ],
   "source": [
    "list_names[2]"
   ]
  },
  {
   "cell_type": "code",
   "execution_count": 5,
   "metadata": {},
   "outputs": [
    {
     "data": {
      "text/plain": [
       "['Juan', 'Pedro']"
      ]
     },
     "execution_count": 5,
     "metadata": {},
     "output_type": "execute_result"
    }
   ],
   "source": [
    "# slice de listas\n",
    "# [start:stop:step]\n",
    "list_names[0:2]"
   ]
  },
  {
   "cell_type": "code",
   "execution_count": 6,
   "metadata": {},
   "outputs": [
    {
     "data": {
      "text/plain": [
       "['Pedro', 'Maria']"
      ]
     },
     "execution_count": 6,
     "metadata": {},
     "output_type": "execute_result"
    }
   ],
   "source": [
    "list_names[1:3]"
   ]
  },
  {
   "cell_type": "code",
   "execution_count": 8,
   "metadata": {},
   "outputs": [],
   "source": [
    "# list methods\n",
    "# append\n",
    "list_names.append(\"Carlos\")"
   ]
  },
  {
   "cell_type": "code",
   "execution_count": 9,
   "metadata": {},
   "outputs": [
    {
     "data": {
      "text/plain": [
       "['Juan', 'Pedro', 'Maria', 'Ana', 'Carlos']"
      ]
     },
     "execution_count": 9,
     "metadata": {},
     "output_type": "execute_result"
    }
   ],
   "source": [
    "list_names"
   ]
  },
  {
   "cell_type": "code",
   "execution_count": 10,
   "metadata": {},
   "outputs": [
    {
     "data": {
      "text/plain": [
       "'Juan'"
      ]
     },
     "execution_count": 10,
     "metadata": {},
     "output_type": "execute_result"
    }
   ],
   "source": [
    "list_names.pop(0)"
   ]
  },
  {
   "cell_type": "code",
   "execution_count": 11,
   "metadata": {},
   "outputs": [
    {
     "data": {
      "text/plain": [
       "['Pedro', 'Maria', 'Ana', 'Carlos']"
      ]
     },
     "execution_count": 11,
     "metadata": {},
     "output_type": "execute_result"
    }
   ],
   "source": [
    "list_names"
   ]
  },
  {
   "cell_type": "code",
   "execution_count": 12,
   "metadata": {},
   "outputs": [
    {
     "data": {
      "text/plain": [
       "4"
      ]
     },
     "execution_count": 12,
     "metadata": {},
     "output_type": "execute_result"
    }
   ],
   "source": [
    "# Longitud de una lista\n",
    "len(list_names)"
   ]
  },
  {
   "cell_type": "code",
   "execution_count": 14,
   "metadata": {},
   "outputs": [
    {
     "name": "stdout",
     "output_type": "stream",
     "text": [
      "Pedro\n",
      "Maria\n",
      "Ana\n",
      "Carlos\n"
     ]
    }
   ],
   "source": [
    "# ciclos for\n",
    "for name in list_names:\n",
    "    print(name)"
   ]
  },
  {
   "cell_type": "code",
   "execution_count": 16,
   "metadata": {},
   "outputs": [
    {
     "name": "stdout",
     "output_type": "stream",
     "text": [
      "Ana esta en la lista\n"
     ]
    }
   ],
   "source": [
    "# ciclos for\n",
    "for name in list_names:\n",
    "    # buscar el nombre ana en la lista en minusculas\n",
    "    if name.lower() == \"ana\":\n",
    "        print(\"Ana esta en la lista\")\n",
    "        break"
   ]
  },
  {
   "cell_type": "code",
   "execution_count": 17,
   "metadata": {},
   "outputs": [],
   "source": [
    "# diccionarios\n",
    "# key: value\n",
    "dict_names = {\n",
    "    \"name\": \"Juan\",\n",
    "    \"last_name\": \"Perez\",\n",
    "    \"age\": 25,\n",
    "}"
   ]
  },
  {
   "cell_type": "markdown",
   "metadata": {},
   "source": [
    "### Funciones"
   ]
  },
  {
   "cell_type": "code",
   "execution_count": 18,
   "metadata": {},
   "outputs": [],
   "source": [
    "# funcion que salude\n",
    "def saludar():\n",
    "    print(\"Hola mundo\")"
   ]
  },
  {
   "cell_type": "code",
   "execution_count": 19,
   "metadata": {},
   "outputs": [
    {
     "name": "stdout",
     "output_type": "stream",
     "text": [
      "Hola mundo\n"
     ]
    }
   ],
   "source": [
    "saludar()"
   ]
  },
  {
   "cell_type": "code",
   "execution_count": 20,
   "metadata": {},
   "outputs": [],
   "source": [
    "# funcion que salude con retorno\n",
    "def saludar2():\n",
    "    return \"Hola mundo\""
   ]
  },
  {
   "cell_type": "code",
   "execution_count": 21,
   "metadata": {},
   "outputs": [
    {
     "data": {
      "text/plain": [
       "'Hola mundo'"
      ]
     },
     "execution_count": 21,
     "metadata": {},
     "output_type": "execute_result"
    }
   ],
   "source": [
    "saludar2()"
   ]
  },
  {
   "cell_type": "code",
   "execution_count": 22,
   "metadata": {},
   "outputs": [],
   "source": [
    "# funcion que salude con retorno para un nombre\n",
    "def saludar3(name):\n",
    "    return f\"Hola {name}\""
   ]
  },
  {
   "cell_type": "code",
   "execution_count": 26,
   "metadata": {},
   "outputs": [
    {
     "ename": "TypeError",
     "evalue": "saludar3() missing 1 required positional argument: 'name'",
     "output_type": "error",
     "traceback": [
      "\u001b[1;31m---------------------------------------------------------------------------\u001b[0m",
      "\u001b[1;31mTypeError\u001b[0m                                 Traceback (most recent call last)",
      "Cell \u001b[1;32mIn[26], line 1\u001b[0m\n\u001b[1;32m----> 1\u001b[0m \u001b[43msaludar3\u001b[49m\u001b[43m(\u001b[49m\u001b[43m)\u001b[49m\n",
      "\u001b[1;31mTypeError\u001b[0m: saludar3() missing 1 required positional argument: 'name'"
     ]
    }
   ],
   "source": [
    "saludar3()"
   ]
  },
  {
   "cell_type": "code",
   "execution_count": 28,
   "metadata": {},
   "outputs": [],
   "source": [
    "# funcion que salude con retorno para un nombre con un valor por defecto\n",
    "def saludar4(name=\"Fulano de tal\"):\n",
    "    return f\"Hola {name}\""
   ]
  },
  {
   "cell_type": "code",
   "execution_count": 30,
   "metadata": {},
   "outputs": [
    {
     "data": {
      "text/plain": [
       "'Hola Maria Antonia'"
      ]
     },
     "execution_count": 30,
     "metadata": {},
     "output_type": "execute_result"
    }
   ],
   "source": [
    "saludar4(\"Maria Antonia\")"
   ]
  },
  {
   "cell_type": "code",
   "execution_count": 31,
   "metadata": {},
   "outputs": [],
   "source": [
    "# funcion que salude con retorno para nombre y apellido con valores por defecto\n",
    "def saludar5(name=\"Fulano\", last_name=\"De tal\"):\n",
    "    return f\"Hola {name} {last_name}\""
   ]
  },
  {
   "cell_type": "code",
   "execution_count": 32,
   "metadata": {},
   "outputs": [
    {
     "data": {
      "text/plain": [
       "'Hola Maria Antonia'"
      ]
     },
     "execution_count": 32,
     "metadata": {},
     "output_type": "execute_result"
    }
   ],
   "source": [
    "saludar5(\"Maria\", \"Antonia\")"
   ]
  },
  {
   "cell_type": "code",
   "execution_count": 33,
   "metadata": {},
   "outputs": [
    {
     "data": {
      "text/plain": [
       "'Hola Maria Antonia'"
      ]
     },
     "execution_count": 33,
     "metadata": {},
     "output_type": "execute_result"
    }
   ],
   "source": [
    "saludar5(last_name=\"Antonia\", name=\"Maria\")"
   ]
  },
  {
   "cell_type": "code",
   "execution_count": 35,
   "metadata": {},
   "outputs": [],
   "source": [
    "# funcion documentada que salude con retorno para nombre y apellido con valores por defecto\n",
    "def saludar6(name=\"Fulano\", last_name=\"De tal\"):\n",
    "    \"\"\"\n",
    "    Esta funcion recibe un nombre y un apellido y retorna un saludo\n",
    "    name: str\n",
    "    last_name: str\n",
    "    return: str\n",
    "    return f\"Hola {name} {last_name}\"\n",
    "    \"\"\"\n",
    "    return f\"Hola {name} {last_name}\""
   ]
  },
  {
   "cell_type": "code",
   "execution_count": 36,
   "metadata": {},
   "outputs": [
    {
     "data": {
      "text/plain": [
       "'Hola Fulano De tal'"
      ]
     },
     "execution_count": 36,
     "metadata": {},
     "output_type": "execute_result"
    }
   ],
   "source": [
    "saludar6()"
   ]
  },
  {
   "cell_type": "code",
   "execution_count": null,
   "metadata": {},
   "outputs": [],
   "source": []
  }
 ],
 "metadata": {
  "kernelspec": {
   "display_name": "Python 3",
   "language": "python",
   "name": "python3"
  },
  "language_info": {
   "codemirror_mode": {
    "name": "ipython",
    "version": 3
   },
   "file_extension": ".py",
   "mimetype": "text/x-python",
   "name": "python",
   "nbconvert_exporter": "python",
   "pygments_lexer": "ipython3",
   "version": "3.13.1"
  }
 },
 "nbformat": 4,
 "nbformat_minor": 2
}
